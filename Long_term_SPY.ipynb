{
 "cells": [
  {
   "cell_type": "markdown",
   "metadata": {},
   "source": [
    "# Long-term Investment in SPY"
   ]
  },
  {
   "cell_type": "markdown",
   "metadata": {},
   "source": [
    "https://finance.yahoo.com/quote/SPY?p=SPY"
   ]
  },
  {
   "cell_type": "markdown",
   "metadata": {},
   "source": [
    "## SPY Market"
   ]
  },
  {
   "cell_type": "code",
   "execution_count": 1,
   "metadata": {
    "collapsed": false,
    "inputHidden": false,
    "jupyter": {
     "outputs_hidden": false
    },
    "outputHidden": false
   },
   "outputs": [],
   "source": [
    "import numpy as np\n",
    "import pandas as pd\n",
    "import matplotlib.pyplot as plt\n",
    "import matplotlib.mlab as mlab\n",
    "import seaborn as sns\n",
    "from tabulate import tabulate\n",
    "import math\n",
    "from scipy.stats import norm\n",
    "\n",
    "import warnings\n",
    "warnings.filterwarnings(\"ignore\")\n",
    "\n",
    "# yfinance is used to fetch data \n",
    "import yfinance as yf\n",
    "yf.pdr_override()\n",
    "\n",
    "from datetime import datetime\n",
    "from dateutil import relativedelta\n",
    "\n",
    "from scipy.stats import norm"
   ]
  },
  {
   "cell_type": "code",
   "execution_count": 2,
   "metadata": {
    "collapsed": false,
    "inputHidden": false,
    "jupyter": {
     "outputs_hidden": false
    },
    "outputHidden": false
   },
   "outputs": [
    {
     "name": "stdin",
     "output_type": "stream",
     "text": [
      "Input desired stock ticker spy\n"
     ]
    },
    {
     "name": "stdout",
     "output_type": "stream",
     "text": [
      "[*********************100%***********************]  1 of 1 completed\n"
     ]
    },
    {
     "data": {
      "text/plain": [
       "Date\n",
       "2010-01-04    88.454216\n",
       "2010-01-05    88.688347\n",
       "2010-01-06    88.750809\n",
       "2010-01-07    89.125420\n",
       "2010-01-08    89.422012\n",
       "Name: Adj Close, dtype: float64"
      ]
     },
     "metadata": {},
     "output_type": "display_data"
    },
    {
     "data": {
      "text/plain": [
       "Date\n",
       "2023-01-03    380.820007\n",
       "2023-01-04    383.760010\n",
       "2023-01-05    379.380005\n",
       "2023-01-06    388.079987\n",
       "2023-01-09    387.859985\n",
       "Name: Adj Close, dtype: float64"
      ]
     },
     "metadata": {},
     "output_type": "display_data"
    }
   ],
   "source": [
    "# input 'SPY'\n",
    "name = input(\"Input desired stock ticker\").upper()\n",
    "start = '2010-01-01'\n",
    "end = '2023-01-10'\n",
    "\n",
    "# Read in the data from yfinance using the Adj Close only.\n",
    "df = yf.download(name,start,end)['Adj Close']\n",
    "\n",
    "# View Columns\n",
    "# head\n",
    "display(df.head())\n",
    "\n",
    "# tail\n",
    "display(df.tail())"
   ]
  },
  {
   "cell_type": "code",
   "execution_count": 3,
   "metadata": {
    "collapsed": false,
    "inputHidden": false,
    "jupyter": {
     "outputs_hidden": false
    },
    "outputHidden": false
   },
   "outputs": [
    {
     "name": "stdout",
     "output_type": "stream",
     "text": [
      "Min: \n"
     ]
    },
    {
     "data": {
      "text/plain": [
       "80.47676086425781"
      ]
     },
     "metadata": {},
     "output_type": "display_data"
    },
    {
     "name": "stdout",
     "output_type": "stream",
     "text": [
      "\n",
      "Max: \n"
     ]
    },
    {
     "data": {
      "text/plain": [
       "470.08367919921875"
      ]
     },
     "metadata": {},
     "output_type": "display_data"
    }
   ],
   "source": [
    "# Print minimum value\n",
    "print(\"Min: \")\n",
    "display(df.min())\n",
    "\n",
    "print()\n",
    "\n",
    "# print max value\n",
    "print(\"Max: \")\n",
    "display(df.max())"
   ]
  },
  {
   "cell_type": "code",
   "execution_count": 4,
   "metadata": {
    "collapsed": false,
    "inputHidden": false,
    "jupyter": {
     "outputs_hidden": false
    },
    "outputHidden": false
   },
   "outputs": [
    {
     "name": "stdout",
     "output_type": "stream",
     "text": [
      "How many years of investing?\n",
      "13 years\n"
     ]
    }
   ],
   "source": [
    "# convert inputed start time to datetime format\n",
    "start = datetime.strptime(start, \"%Y-%m-%d\")\n",
    "\n",
    "# convert inputed end time to date time format\n",
    "end = datetime.strptime(end, \"%Y-%m-%d\")\n",
    "\n",
    "# create the delta between start and end time\n",
    "delta = relativedelta.relativedelta(end,start)\n",
    "\n",
    "# print the amount of years between start and end\n",
    "print('How many years of investing?')\n",
    "print('%s years' % delta.years)"
   ]
  },
  {
   "cell_type": "markdown",
   "metadata": {},
   "source": [
    "### Starting Cash with 100k to invest in Bonds"
   ]
  },
  {
   "cell_type": "code",
   "execution_count": 5,
   "metadata": {
    "collapsed": false,
    "inputHidden": false,
    "jupyter": {
     "outputs_hidden": false
    },
    "outputHidden": false
   },
   "outputs": [],
   "source": [
    "# starting cash balance\n",
    "cash = 100000"
   ]
  },
  {
   "cell_type": "code",
   "execution_count": 6,
   "metadata": {
    "collapsed": false,
    "inputHidden": false,
    "jupyter": {
     "outputs_hidden": false
    },
    "outputHidden": false
   },
   "outputs": [
    {
     "name": "stdout",
     "output_type": "stream",
     "text": [
      "Number of Shares:\n",
      "SPY: 1130\n"
     ]
    }
   ],
   "source": [
    "print('Number of Shares:')\n",
    "# calculate number of share by dividing inputted cash to the value of the first dates adj close\n",
    "shares = int(cash/df.iloc[0])\n",
    "print(f'{name}: {shares}')"
   ]
  },
  {
   "cell_type": "code",
   "execution_count": 7,
   "metadata": {
    "collapsed": false,
    "inputHidden": false,
    "jupyter": {
     "outputs_hidden": false
    },
    "outputHidden": false
   },
   "outputs": [
    {
     "name": "stdout",
     "output_type": "stream",
     "text": [
      "Beginning Value:\n",
      "SPY: $99953.26\n"
     ]
    }
   ],
   "source": [
    "print('Beginning Value:')\n",
    "\n",
    "shares = int(cash/df.iloc[0])\n",
    "\n",
    "# beginning value is based on the first dates adjusted close\n",
    "begin_value = round(shares * df.iloc[0], 2)\n",
    "print(f'{name}: ${begin_value}')"
   ]
  },
  {
   "cell_type": "code",
   "execution_count": 8,
   "metadata": {
    "collapsed": false,
    "inputHidden": false,
    "jupyter": {
     "outputs_hidden": false
    },
    "outputHidden": false
   },
   "outputs": [
    {
     "name": "stdout",
     "output_type": "stream",
     "text": [
      "Current Value:\n",
      "SPY: $438281.78\n"
     ]
    }
   ],
   "source": [
    "print('Current Value:')\n",
    "\n",
    "shares = int(cash/df.iloc[0])\n",
    "\n",
    "# current value is based on the most recent dates adjusted close\n",
    "current_value = round(shares * df.iloc[-1], 2)\n",
    "print(f'{name}: ${current_value}')"
   ]
  },
  {
   "cell_type": "code",
   "execution_count": 9,
   "metadata": {
    "collapsed": false,
    "inputHidden": false,
    "jupyter": {
     "outputs_hidden": false
    },
    "outputHidden": false
   },
   "outputs": [
    {
     "data": {
      "text/plain": [
       "Date\n",
       "2010-01-05    0.002647\n",
       "2010-01-06    0.000704\n",
       "2010-01-07    0.004221\n",
       "2010-01-08    0.003328\n",
       "2010-01-11    0.001397\n",
       "Name: Adj Close, dtype: float64"
      ]
     },
     "metadata": {},
     "output_type": "display_data"
    },
    {
     "name": "stdout",
     "output_type": "stream",
     "text": [
      "\n"
     ]
    },
    {
     "data": {
      "text/plain": [
       "Date\n",
       "2023-01-03   -0.004210\n",
       "2023-01-04    0.007720\n",
       "2023-01-05   -0.011413\n",
       "2023-01-06    0.022932\n",
       "2023-01-09   -0.000567\n",
       "Name: Adj Close, dtype: float64"
      ]
     },
     "metadata": {},
     "output_type": "display_data"
    }
   ],
   "source": [
    "# calculate the daily returns\n",
    "returns = df.pct_change().dropna()\n",
    "\n",
    "# view columns\n",
    "# head\n",
    "display(returns.head())\n",
    "\n",
    "print()\n",
    "\n",
    "# tail\n",
    "display(returns.tail())"
   ]
  },
  {
   "cell_type": "code",
   "execution_count": 10,
   "metadata": {
    "collapsed": false,
    "inputHidden": false,
    "jupyter": {
     "outputs_hidden": false
    },
    "outputHidden": false
   },
   "outputs": [
    {
     "name": "stdout",
     "output_type": "stream",
     "text": [
      "Date\n",
      "2023-01-03    4.305278\n",
      "2023-01-04    4.338516\n",
      "2023-01-05    4.288999\n",
      "2023-01-06    4.387354\n",
      "2023-01-09    4.384867\n",
      "Name: Adj Close, dtype: float64\n"
     ]
    }
   ],
   "source": [
    "# Calculate cumulative returns\n",
    "daily_cum_ret=(1+returns).cumprod()\n",
    "print(daily_cum_ret.tail())"
   ]
  },
  {
   "cell_type": "code",
   "execution_count": 11,
   "metadata": {
    "collapsed": false,
    "inputHidden": false,
    "jupyter": {
     "outputs_hidden": false
    },
    "outputHidden": false
   },
   "outputs": [
    {
     "name": "stdout",
     "output_type": "stream",
     "text": [
      "mean :  0.051310092044796744\n",
      "Std. dev:  1.1095546392369622\n",
      "skew:  -0.5145541174104781\n",
      "kurt:  10.787989528461637\n"
     ]
    }
   ],
   "source": [
    "# Print the mean\n",
    "print(\"mean : \", returns.mean()*100)\n",
    "\n",
    "# Print the standard deviation\n",
    "print(\"Std. dev: \", returns.std()*100)\n",
    "\n",
    "# Print the skewness\n",
    "print(\"skew: \", returns.skew())\n",
    "\n",
    "# Print the kurtosis\n",
    "print(\"kurt: \", returns.kurtosis())"
   ]
  },
  {
   "cell_type": "code",
   "execution_count": 12,
   "metadata": {
    "collapsed": false,
    "inputHidden": false,
    "jupyter": {
     "outputs_hidden": false
    },
    "outputHidden": false
   },
   "outputs": [
    {
     "name": "stdout",
     "output_type": "stream",
     "text": [
      "-1.214172507979777\n"
     ]
    }
   ],
   "source": [
    "# Calculate total return and annualized return from price data \n",
    "# subtract the most recent return price from the initial return price\n",
    "# divide by the initial returns\n",
    "total_return = (returns[-1] - returns[0]) / returns[0]\n",
    "print(total_return)"
   ]
  },
  {
   "cell_type": "code",
   "execution_count": 13,
   "metadata": {
    "collapsed": false,
    "inputHidden": false,
    "jupyter": {
     "outputs_hidden": false
    },
    "outputHidden": false
   },
   "outputs": [],
   "source": [
    "# Annualize the total return over 12 year \n",
    "annualized_return = ((1+total_return)**(1/12))-1\n",
    "\n",
    "# Calculate annualized volatility from the standard deviation\n",
    "vol_port = returns.std() * np.sqrt(250)"
   ]
  },
  {
   "cell_type": "code",
   "execution_count": 14,
   "metadata": {
    "collapsed": false,
    "inputHidden": false,
    "jupyter": {
     "outputs_hidden": false
    },
    "outputHidden": false
   },
   "outputs": [
    {
     "name": "stdout",
     "output_type": "stream",
     "text": [
      "nan\n"
     ]
    }
   ],
   "source": [
    "# Calculate the Sharpe ratio \n",
    "rf = 0.001\n",
    "sharpe_ratio = (annualized_return - rf) / vol_port\n",
    "print(sharpe_ratio)"
   ]
  },
  {
   "cell_type": "code",
   "execution_count": 15,
   "metadata": {
    "collapsed": false,
    "inputHidden": false,
    "jupyter": {
     "outputs_hidden": false
    },
    "outputHidden": false
   },
   "outputs": [
    {
     "name": "stdout",
     "output_type": "stream",
     "text": [
      "Expected return:  0.051310092044796744\n",
      "--------------------------------------------------\n",
      "Downside risk:\n",
      "0.9133613442350653\n",
      "--------------------------------------------------\n",
      "Sortino ratio:\n",
      "-1.0386797229192193\n"
     ]
    }
   ],
   "source": [
    "# Create a downside return column with the negative returns only\n",
    "target = 0\n",
    "downside_returns = returns.loc[returns < target]\n",
    "\n",
    "# Calculate expected return and std dev of downside\n",
    "expected_return = returns.mean()\n",
    "down_stdev = downside_returns.std()\n",
    "\n",
    "# Calculate the sortino ratio\n",
    "rf = 0.01\n",
    "sortino_ratio = (expected_return - rf)/down_stdev\n",
    "\n",
    "# Print the results\n",
    "print(\"Expected return: \", expected_return*100)\n",
    "print('-' * 50)\n",
    "print(\"Downside risk:\")\n",
    "print(down_stdev*100)\n",
    "print('-' * 50)\n",
    "print(\"Sortino ratio:\")\n",
    "print(sortino_ratio)"
   ]
  },
  {
   "cell_type": "code",
   "execution_count": 16,
   "metadata": {
    "collapsed": false,
    "inputHidden": false,
    "jupyter": {
     "outputs_hidden": false
    },
    "outputHidden": false
   },
   "outputs": [
    {
     "data": {
      "image/png": "[encoded data removed]",
      "text/plain": [
       "<Figure size 1080x1080 with 1 Axes>"
      ]
     },
     "metadata": {
      "needs_background": "light"
     },
     "output_type": "display_data"
    }
   ],
   "source": [
    "# Calculate the max value \n",
    "roll_max = returns.rolling(center=False,min_periods=1,window=252).max()\n",
    "\n",
    "# Calculate the daily draw-down relative to the max\n",
    "daily_draw_down = returns/roll_max - 1.0\n",
    "\n",
    "# Calculate the minimum (negative) daily draw-down\n",
    "max_daily_draw_down = daily_draw_down.rolling(center=False,min_periods=1,window=252).min()\n",
    "\n",
    "# Plot the results\n",
    "plt.figure(figsize=(15,15))\n",
    "plt.plot(returns.index, daily_draw_down, label='Daily drawdown')\n",
    "plt.plot(returns.index, max_daily_draw_down, label='Maximum daily drawdown in time-window')\n",
    "plt.legend()\n",
    "\n",
    "# Save the figure.\n",
    "plt.savefig(f\"./Images/{name}DailyDrawdown.jpg\")\n",
    "\n",
    "plt.show()"
   ]
  },
  {
   "cell_type": "code",
   "execution_count": 17,
   "metadata": {
    "collapsed": false,
    "inputHidden": false,
    "jupyter": {
     "outputs_hidden": false
    },
    "outputHidden": false
   },
   "outputs": [
    {
     "data": {
      "image/png": "[encoded data removed]",
      "text/plain": [
       "<Figure size 432x288 with 1 Axes>"
      ]
     },
     "metadata": {
      "needs_background": "light"
     },
     "output_type": "display_data"
    }
   ],
   "source": [
    "# Box plot\n",
    "returns.plot(kind='box')\n",
    "\n",
    "# Save the figure.\n",
    "plt.savefig(f\"./Images/{name}Boxplot.jpg\")"
   ]
  },
  {
   "cell_type": "code",
   "execution_count": 18,
   "metadata": {
    "collapsed": false,
    "inputHidden": false,
    "jupyter": {
     "outputs_hidden": false
    },
    "outputHidden": false
   },
   "outputs": [
    {
     "name": "stdout",
     "output_type": "stream",
     "text": [
      "Stock returns: \n",
      "0.0005131009204479675\n",
      "--------------------------------------------------\n",
      "Stock risk:\n",
      "0.01109554639236962\n"
     ]
    }
   ],
   "source": [
    "print(\"Stock returns: \")\n",
    "print(returns.mean())\n",
    "print('-' * 50)\n",
    "print(\"Stock risk:\")\n",
    "print(returns.std())"
   ]
  },
  {
   "cell_type": "code",
   "execution_count": 19,
   "metadata": {
    "collapsed": false,
    "inputHidden": false,
    "jupyter": {
     "outputs_hidden": false
    },
    "outputHidden": false
   },
   "outputs": [
    {
     "name": "stdout",
     "output_type": "stream",
     "text": [
      "Sharpe Ratio:  -0.6966113245041275\n"
     ]
    }
   ],
   "source": [
    "rf = 0.001\n",
    "Sharpe_Ratio = ((returns.mean() - rf) / returns.std()) * np.sqrt(252)\n",
    "print('Sharpe Ratio: ', Sharpe_Ratio)"
   ]
  },
  {
   "cell_type": "markdown",
   "metadata": {},
   "source": [
    "### Value-at-Risk 99% Confidence"
   ]
  },
  {
   "cell_type": "code",
   "execution_count": 20,
   "metadata": {
    "collapsed": false,
    "inputHidden": false,
    "jupyter": {
     "outputs_hidden": false
    },
    "outputHidden": false
   },
   "outputs": [],
   "source": [
    "# 99% confidence interval\n",
    "# 0.01 empirical quantile of daily returns\n",
    "var99 = round((returns).quantile(0.01), 3)"
   ]
  },
  {
   "cell_type": "code",
   "execution_count": 21,
   "metadata": {
    "collapsed": false,
    "inputHidden": false,
    "jupyter": {
     "outputs_hidden": false
    },
    "outputHidden": false
   },
   "outputs": [
    {
     "name": "stdout",
     "output_type": "stream",
     "text": [
      "Value at Risk (99% confidence)\n",
      "-0.032\n"
     ]
    }
   ],
   "source": [
    "print('Value at Risk (99% confidence)')\n",
    "print(var99)"
   ]
  },
  {
   "cell_type": "code",
   "execution_count": 22,
   "metadata": {
    "collapsed": false,
    "inputHidden": false,
    "jupyter": {
     "outputs_hidden": false
    },
    "outputHidden": false
   },
   "outputs": [
    {
     "name": "stdout",
     "output_type": "stream",
     "text": [
      "Percent Value-at-Risk of the 5th quantile\n",
      "3.2%\n"
     ]
    }
   ],
   "source": [
    "# the percent value of the 5th quantile\n",
    "print('Percent Value-at-Risk of the 5th quantile')\n",
    "var_1_perc = round(np.quantile(var99, 0.01), 3)\n",
    "print(\"{:.1f}%\".format(-var_1_perc*100))"
   ]
  },
  {
   "cell_type": "code",
   "execution_count": 23,
   "metadata": {
    "collapsed": false,
    "inputHidden": false,
    "jupyter": {
     "outputs_hidden": false
    },
    "outputHidden": false
   },
   "outputs": [
    {
     "name": "stdout",
     "output_type": "stream",
     "text": [
      "Value-at-Risk of 99% for 100,000 investment\n",
      "$3200\n"
     ]
    }
   ],
   "source": [
    "print('Value-at-Risk of 99% for 100,000 investment')\n",
    "print(\"${}\".format(int(-var99 * 100000)))"
   ]
  },
  {
   "cell_type": "markdown",
   "metadata": {},
   "source": [
    "### Value-at-Risk 95% Confidence"
   ]
  },
  {
   "cell_type": "code",
   "execution_count": 24,
   "metadata": {
    "collapsed": false,
    "inputHidden": false,
    "jupyter": {
     "outputs_hidden": false
    },
    "outputHidden": false
   },
   "outputs": [],
   "source": [
    "# 95% confidence interval\n",
    "# 0.05 empirical quantile of daily returns\n",
    "var95 = round((returns).quantile(0.05), 3)"
   ]
  },
  {
   "cell_type": "code",
   "execution_count": 25,
   "metadata": {
    "collapsed": false,
    "inputHidden": false,
    "jupyter": {
     "outputs_hidden": false
    },
    "outputHidden": false
   },
   "outputs": [
    {
     "name": "stdout",
     "output_type": "stream",
     "text": [
      "Value at Risk (95% confidence)\n",
      "-0.017\n"
     ]
    }
   ],
   "source": [
    "print('Value at Risk (95% confidence)')\n",
    "print(var95)"
   ]
  },
  {
   "cell_type": "code",
   "execution_count": 26,
   "metadata": {
    "collapsed": false,
    "inputHidden": false,
    "jupyter": {
     "outputs_hidden": false
    },
    "outputHidden": false
   },
   "outputs": [
    {
     "name": "stdout",
     "output_type": "stream",
     "text": [
      "Percent Value-at-Risk of the 5th quantile\n",
      "1.7%\n"
     ]
    }
   ],
   "source": [
    "print('Percent Value-at-Risk of the 5th quantile')\n",
    "print(\"{:.1f}%\".format(-var95*100))"
   ]
  },
  {
   "cell_type": "code",
   "execution_count": 27,
   "metadata": {
    "collapsed": false,
    "inputHidden": false,
    "jupyter": {
     "outputs_hidden": false
    },
    "outputHidden": false
   },
   "outputs": [
    {
     "name": "stdout",
     "output_type": "stream",
     "text": [
      "Value-at-Risk of 99% for 100,000 investment\n",
      "$1700\n"
     ]
    }
   ],
   "source": [
    "# VaR for 100,000 investment\n",
    "print('Value-at-Risk of 99% for 100,000 investment')\n",
    "var_100k = \"${}\".format(int(-var95 * 100000))\n",
    "print(\"${}\".format(int(-var95 * 100000)))"
   ]
  },
  {
   "cell_type": "code",
   "execution_count": 28,
   "metadata": {
    "collapsed": false,
    "inputHidden": false,
    "jupyter": {
     "outputs_hidden": false
    },
    "outputHidden": false
   },
   "outputs": [],
   "source": [
    "mean = np.mean(returns)\n",
    "std_dev = np.std(returns)"
   ]
  },
  {
   "cell_type": "code",
   "execution_count": 29,
   "metadata": {
    "collapsed": false,
    "inputHidden": false,
    "jupyter": {
     "outputs_hidden": false
    },
    "outputHidden": false
   },
   "outputs": [
    {
     "data": {
      "image/png": "[encoded data removed]",
      "text/plain": [
       "<Figure size 432x288 with 1 Axes>"
      ]
     },
     "metadata": {
      "needs_background": "light"
     },
     "output_type": "display_data"
    }
   ],
   "source": [
    "returns.hist(bins=50, density=True, histtype='stepfilled', alpha=0.5)\n",
    "x = np.linspace(mean - 3*std_dev, mean + 3*std_dev, 100)\n",
    "plt.plot(x, norm.pdf(x, mean, std_dev), \"r\")\n",
    "plt.title('Histogram of Returns')\n",
    "\n",
    "# Save the figure.\n",
    "plt.savefig(f\"./Images/{name}HistogramOfReturns.jpg\")\n",
    "\n",
    "plt.show()"
   ]
  },
  {
   "cell_type": "code",
   "execution_count": 30,
   "metadata": {
    "collapsed": false,
    "inputHidden": false,
    "jupyter": {
     "outputs_hidden": false
    },
    "outputHidden": false
   },
   "outputs": [],
   "source": [
    "VaR_90 = norm.ppf(1-0.9, mean, std_dev)\n",
    "VaR_95 = norm.ppf(1-0.95, mean, std_dev)\n",
    "VaR_99 = norm.ppf(1-0.99, mean, std_dev)"
   ]
  },
  {
   "cell_type": "code",
   "execution_count": 31,
   "metadata": {
    "collapsed": false,
    "inputHidden": false,
    "jupyter": {
     "outputs_hidden": false
    },
    "outputHidden": false
   },
   "outputs": [
    {
     "name": "stdout",
     "output_type": "stream",
     "text": [
      "Confidence Level      Value at Risk\n",
      "------------------  ---------------\n",
      "90%                      -0.0137042\n",
      "95%                      -0.0177347\n",
      "99%                      -0.0252951\n"
     ]
    }
   ],
   "source": [
    "print(tabulate([['90%', VaR_90], ['95%', VaR_95], ['99%', VaR_99]], headers=['Confidence Level', 'Value at Risk']))"
   ]
  },
  {
   "cell_type": "code",
   "execution_count": null,
   "metadata": {},
   "outputs": [],
   "source": []
  }
 ],
 "metadata": {
  "kernel_info": {
   "name": "python3"
  },
  "kernelspec": {
   "display_name": "Python 3 (ipykernel)",
   "language": "python",
   "name": "python3"
  },
  "language_info": {
   "codemirror_mode": {
    "name": "ipython",
    "version": 3
   },
   "file_extension": ".py",
   "mimetype": "text/x-python",
   "name": "python",
   "nbconvert_exporter": "python",
   "pygments_lexer": "ipython3",
   "version": "3.7.11"
  },
  "nteract": {
   "version": "0.15.0"
  }
 },
 "nbformat": 4,
 "nbformat_minor": 4
}
